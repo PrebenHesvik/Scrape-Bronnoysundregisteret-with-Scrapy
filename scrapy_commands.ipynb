{
 "cells": [
  {
   "cell_type": "code",
   "execution_count": 1,
   "metadata": {},
   "outputs": [],
   "source": [
    "import scrapy"
   ]
  },
  {
   "cell_type": "code",
   "execution_count": null,
   "metadata": {},
   "outputs": [],
   "source": [
    "web_url = 'https://web.archive.org/web/20190225123327/https://www.tinydeal.com/specials.html'"
   ]
  },
  {
   "cell_type": "markdown",
   "metadata": {},
   "source": [
    "scrapy startproject \\<project name\\>"
   ]
  },
  {
   "cell_type": "markdown",
   "metadata": {},
   "source": [
    "scrapy genspider \\<name of spider\\>"
   ]
  },
  {
   "cell_type": "markdown",
   "metadata": {},
   "source": [
    "scrapy crawl \\<name of spider\\> -o dataset.json"
   ]
  },
  {
   "cell_type": "markdown",
   "metadata": {},
   "source": [
    "## Web scraping tip 1\n",
    "- The Network Tab\n",
    "    * This shows all the network activity from the server to the browser and often contains the API endpoint for easy access\n",
    "\n",
    "- View Source\n",
    "    * Check what your http request is actually seeing. This will give you  a good idea of how you need to proceed\n",
    "\n",
    "- Inspect Element\n",
    "    * The DOM and inspect element tols show what the browser is intepreting and is very useful for finding the elements that contain the data that we want. "
   ]
  },
  {
   "cell_type": "markdown",
   "metadata": {},
   "source": [
    "## Web scraping tip 2:\n",
    "- Parse Locally\n",
    "    * Saving a copy of the HTML or JSON data you are working on to your local hardrive will help you speed up parsing and data extraction without sending multiple requests to the server. "
   ]
  },
  {
   "cell_type": "markdown",
   "metadata": {},
   "source": []
  }
 ],
 "metadata": {
  "interpreter": {
   "hash": "05d659cf7217a31b7ba206b7e3fe1d98040361cb242cc44ce7c59206cfd427bc"
  },
  "kernelspec": {
   "display_name": "Python 3.9.5 64-bit ('spenncon': conda)",
   "name": "python3"
  },
  "language_info": {
   "codemirror_mode": {
    "name": "ipython",
    "version": 3
   },
   "file_extension": ".py",
   "mimetype": "text/x-python",
   "name": "python",
   "nbconvert_exporter": "python",
   "pygments_lexer": "ipython3",
   "version": "3.9.5"
  },
  "orig_nbformat": 4
 },
 "nbformat": 4,
 "nbformat_minor": 2
}
